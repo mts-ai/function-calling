{
 "cells": [
  {
   "cell_type": "code",
   "execution_count": null,
   "metadata": {},
   "outputs": [],
   "source": [
    "from transformers import AutoModelForCausalLM, AutoTokenizer\n",
    "import json\n",
    "import smtplib as smtp\n",
    "from getpass import getpass"
   ]
  },
  {
   "cell_type": "code",
   "execution_count": null,
   "metadata": {},
   "outputs": [],
   "source": [
    "tokenizer = AutoTokenizer.from_pretrained(\"glaiveai/glaive-function-calling-v1\", trust_remote_code=True)\n",
    "model = AutoModelForCausalLM.from_pretrained(\"glaiveai/glaive-function-calling-v1\", trust_remote_code=True).half().cuda()"
   ]
  },
  {
   "cell_type": "code",
   "execution_count": null,
   "metadata": {},
   "outputs": [],
   "source": [
    "def send_email(destination_email: str, message_text: str):\n",
    "    \"\"\"Send message to user_email with message_text\"\"\"\n",
    "\n",
    "    email = ''\n",
    "    password = ''\n",
    "    dest_email = destination_email\n",
    "    subject = 'Test'\n",
    "    email_text = message_text\n",
    "\n",
    "    message = 'From: {}\\nTo: {}\\nSubject: {}\\n\\n{}'.format(email,\n",
    "                                                        dest_email, \n",
    "                                                        subject, \n",
    "                                                        email_text)\n",
    "\n",
    "    server = smtp.SMTP_SSL('smtp.yandex.com')\n",
    "    server.set_debuglevel(1)\n",
    "    server.ehlo(email)\n",
    "    server.login(email, password)\n",
    "    server.auth_plain()\n",
    "    server.sendmail(email, dest_email, message)\n",
    "    server.quit()"
   ]
  },
  {
   "cell_type": "code",
   "execution_count": null,
   "metadata": {},
   "outputs": [],
   "source": [
    "prompt = \"\"\"\n",
    "SYSTEM: You are an helpful assistant who has access to the following functions to help the user, you can use the functions if needed-\n",
    "{\n",
    "            \"name\": \"send_email\",\n",
    "            \"description\": \"Plan a holiday based on user's interests\",\n",
    "            \"parameters\": {\n",
    "                \"type\": \"object\",\n",
    "                \"properties\": {\n",
    "                    \"destination_email\": {\n",
    "                        \"type\": \"string\",\n",
    "                        \"description\": \"Destination email\",\n",
    "                    },\n",
    "                    \"message_text\": {\n",
    "                        \"type\": \"string\",\n",
    "                        \"description\": \"Text of message\",\n",
    "                    },\n",
    "                },\n",
    "                \"required\": [\"destination_email\", \"message_text\"],\n",
    "            },\n",
    "}\n",
    "USER: Send a message to email about the meeting on June 13. And tell him to call my number back. Be kind\n",
    "\n",
    "\"\"\""
   ]
  },
  {
   "cell_type": "code",
   "execution_count": null,
   "metadata": {},
   "outputs": [],
   "source": [
    "def function_calling(prompt):\n",
    "    inputs = tokenizer(prompt,return_tensors=\"pt\").to(model.device)\n",
    "    outputs = model.generate(**inputs,do_sample=True,temperature=0.1,top_p=0.95,max_new_tokens=200)\n",
    "    res = tokenizer.decode(outputs[0],skip_special_tokens=True)\n",
    "    res = res.split(\"<functioncall>\")[-1]\n",
    "    res = json.loads(res)\n",
    "    locals()[res[\"name\"]](**res[\"arguments\"])\n",
    "\n",
    "function_calling(prompt)"
   ]
  }
 ],
 "metadata": {
  "language_info": {
   "name": "python"
  },
  "orig_nbformat": 4
 },
 "nbformat": 4,
 "nbformat_minor": 2
}
