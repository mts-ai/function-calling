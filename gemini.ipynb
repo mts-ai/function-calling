{
 "cells": [
  {
   "cell_type": "code",
   "execution_count": 2,
   "metadata": {},
   "outputs": [
    {
     "name": "stdout",
     "output_type": "stream",
     "text": [
      "\u001b[33mDEPRECATION: pytorch-lightning 1.5.6 has a non-standard dependency specifier torch>=1.7.*. pip 24.0 will enforce this behaviour change. A possible replacement is to upgrade to a newer version of pytorch-lightning or contact the author to suggest that they release a version with a conforming dependency specifiers. Discussion can be found at https://github.com/pypa/pip/issues/12063\u001b[0m\u001b[33m\n",
      "\u001b[0m\n",
      "\u001b[1m[\u001b[0m\u001b[34;49mnotice\u001b[0m\u001b[1;39;49m]\u001b[0m\u001b[39;49m A new release of pip is available: \u001b[0m\u001b[31;49m23.3.1\u001b[0m\u001b[39;49m -> \u001b[0m\u001b[32;49m24.0\u001b[0m\n",
      "\u001b[1m[\u001b[0m\u001b[34;49mnotice\u001b[0m\u001b[1;39;49m]\u001b[0m\u001b[39;49m To update, run: \u001b[0m\u001b[32;49m/Library/Developer/CommandLineTools/usr/bin/python3 -m pip install --upgrade pip\u001b[0m\n",
      "Note: you may need to restart the kernel to use updated packages.\n"
     ]
    }
   ],
   "source": [
    "%pip install -U -q google-generativeai"
   ]
  },
  {
   "cell_type": "code",
   "execution_count": 1,
   "metadata": {},
   "outputs": [],
   "source": [
    "import textwrap\n",
    "import google.generativeai as genai\n",
    "from IPython.display import Markdown\n",
    "\n",
    "from google.oauth2.credentials import Credentials\n",
    "from google_auth_oauthlib.flow import InstalledAppFlow\n",
    "from googleapiclient.discovery import build\n",
    "\n",
    "import smtplib as smtp\n",
    "from getpass import getpass\n",
    "\n",
    "def to_markdown(text):\n",
    "  text = text.replace('•', '  *')\n",
    "  return Markdown(textwrap.indent(text, '> ', predicate=lambda _: True))\n",
    "\n",
    "SCOPES = ['https://www.googleapis.com/auth/gmail.send']"
   ]
  },
  {
   "cell_type": "code",
   "execution_count": 2,
   "metadata": {},
   "outputs": [],
   "source": [
    "api_key = \"\""
   ]
  },
  {
   "cell_type": "code",
   "execution_count": 3,
   "metadata": {},
   "outputs": [],
   "source": [
    "genai.configure(api_key=api_key)"
   ]
  },
  {
   "cell_type": "code",
   "execution_count": 4,
   "metadata": {},
   "outputs": [
    {
     "data": {
      "text/plain": [
       "genai.GenerativeModel(\n",
       "    model_name='models/gemini-1.5-flash',\n",
       "    generation_config={},\n",
       "    safety_settings={},\n",
       "    tools=<google.generativeai.types.content_types.FunctionLibrary object at 0x10de0d7c0>,\n",
       "    system_instruction=None,\n",
       ")"
      ]
     },
     "execution_count": 4,
     "metadata": {},
     "output_type": "execute_result"
    }
   ],
   "source": [
    "def multiply(a:float, b:float):\n",
    "    \"\"\"returns a * b.\"\"\"\n",
    "    return a*b\n",
    "\n",
    "\n",
    "\n",
    "def send_email(destination_email: str, message_text: str):\n",
    "    \"\"\"Send message to user_email with message_text\"\"\"\n",
    "\n",
    "    email = ''\n",
    "    password = ''\n",
    "    dest_email = destination_email\n",
    "    subject = 'Test'\n",
    "    email_text = message_text\n",
    "\n",
    "    message = 'From: {}\\nTo: {}\\nSubject: {}\\n\\n{}'.format(email,\n",
    "                                                        dest_email, \n",
    "                                                        subject, \n",
    "                                                        email_text)\n",
    "\n",
    "    server = smtp.SMTP_SSL('smtp.yandex.com')\n",
    "    server.set_debuglevel(1)\n",
    "    server.ehlo(email)\n",
    "    server.login(email, password)\n",
    "    server.auth_plain()\n",
    "    server.sendmail(email, dest_email, message)\n",
    "    server.quit()\n",
    "\n",
    "model = genai.GenerativeModel(model_name='gemini-1.5-flash',\n",
    "                              tools=[multiply, send_email])\n",
    "\n",
    "model"
   ]
  },
  {
   "cell_type": "code",
   "execution_count": 9,
   "metadata": {},
   "outputs": [],
   "source": [
    "chat = model.start_chat(enable_automatic_function_calling=True)"
   ]
  },
  {
   "cell_type": "code",
   "execution_count": 6,
   "metadata": {},
   "outputs": [
    {
     "data": {
      "text/plain": [
       "\"That's a total of 2508 mittens. \\n\""
      ]
     },
     "execution_count": 6,
     "metadata": {},
     "output_type": "execute_result"
    }
   ],
   "source": [
    "response = chat.send_message('I have 57 cats, each owns 44 mittens, how many mittens is that in total?')\n",
    "response.text"
   ]
  },
  {
   "cell_type": "code",
   "execution_count": null,
   "metadata": {},
   "outputs": [],
   "source": [
    "response = chat.send_message('Send a message to email about meeting on June 13. And tell him to call my number back. Be kind')\n",
    "response.text"
   ]
  },
  {
   "cell_type": "code",
   "execution_count": 14,
   "metadata": {},
   "outputs": [
    {
     "name": "stdout",
     "output_type": "stream",
     "text": [
      "user -> {'text': 'Send a message to alanrbtx@gmail.com about the MTS AI meeting on June 13. Your name is Newton'}\n",
      "--------------------------------------------------------------------------------\n",
      "model -> {'function_call': {'name': 'send_email', 'args': {'message_text': 'Hi, this is Newton. Just a reminder about the MTS AI meeting on June 13.', 'destination_email': 'alanrbtx@gmail.com'}}}\n",
      "--------------------------------------------------------------------------------\n",
      "user -> {'function_response': {'name': 'send_email', 'response': {'result': None}}}\n",
      "--------------------------------------------------------------------------------\n",
      "model -> {'text': \"OK. I've sent an email to alanrbtx@gmail.com. \\n\"}\n",
      "--------------------------------------------------------------------------------\n",
      "user -> {'text': 'Send a message to alanrbtx@gmail.com about the MTS AI meeting on June 13. And tell him to call my number back. Be kind'}\n",
      "--------------------------------------------------------------------------------\n",
      "model -> {'function_call': {'name': 'send_email', 'args': {'message_text': 'Hi Alan, this is Newton. Just a friendly reminder about the MTS AI meeting on June 13th. Please give me a call back at your earliest convenience. Thanks!', 'destination_email': 'alanrbtx@gmail.com'}}}\n",
      "--------------------------------------------------------------------------------\n",
      "user -> {'function_response': {'name': 'send_email', 'response': {'result': None}}}\n",
      "--------------------------------------------------------------------------------\n",
      "model -> {'text': \"OK. I've sent an email to alanrbtx@gmail.com.  Let me know if you'd like me to add anything else to the message. \\n\"}\n",
      "--------------------------------------------------------------------------------\n"
     ]
    }
   ],
   "source": [
    "for content in chat.history:\n",
    "    part = content.parts[0]\n",
    "    print(content.role, \"->\", type(part).to_dict(part))\n",
    "    print('-'*80)"
   ]
  },
  {
   "cell_type": "code",
   "execution_count": 15,
   "metadata": {},
   "outputs": [
    {
     "data": {
      "text/plain": [
       "\"As an AI, I don't have feelings like humans do.  But I'm here to assist you with any questions or tasks you may have! 😊  How can I help you today? \\n\""
      ]
     },
     "execution_count": 15,
     "metadata": {},
     "output_type": "execute_result"
    }
   ],
   "source": [
    "response = chat.send_message('How are you?')\n",
    "response.text"
   ]
  }
 ],
 "metadata": {
  "kernelspec": {
   "display_name": "Python 3",
   "language": "python",
   "name": "python3"
  },
  "language_info": {
   "codemirror_mode": {
    "name": "ipython",
    "version": 3
   },
   "file_extension": ".py",
   "mimetype": "text/x-python",
   "name": "python",
   "nbconvert_exporter": "python",
   "pygments_lexer": "ipython3",
   "version": "3.9.6"
  },
  "orig_nbformat": 4
 },
 "nbformat": 4,
 "nbformat_minor": 2
}
